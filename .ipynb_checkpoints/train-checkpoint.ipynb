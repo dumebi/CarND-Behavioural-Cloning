{
 "cells": [
  {
   "cell_type": "code",
   "execution_count": 1,
   "metadata": {},
   "outputs": [],
   "source": [
    "import csv\n",
    "import cv2\n",
    "import numpy as np\n",
    "import sklearn"
   ]
  },
  {
   "cell_type": "code",
   "execution_count": 2,
   "metadata": {},
   "outputs": [],
   "source": [
    "# Read driving data into an array\n",
    "lines = []\n",
    "with open('./data/driving_log.csv') as csvfile:\n",
    "    reader = csv.reader(csvfile)\n",
    "    for line in reader:\n",
    "        lines.append(line)\n",
    "        \n",
    "# from sklearn.model_selection import train_test_split\n",
    "# from random import shuffle\n",
    "# train_samples, validation_samples = train_test_split(lines, test_size=0.2)\n",
    "\n",
    "# def generator(lines, batch_size=32):\n",
    "#     num_samples = len(lines)\n",
    "#     while 1: # Loop forever so the generator never terminates\n",
    "#         shuffle(lines)\n",
    "#         for offset in range(0, num_samples, batch_size):\n",
    "#             batch_samples = lines[offset:offset+batch_size]\n",
    "\n",
    "#             images = []\n",
    "#             measurements = []\n",
    "#             for batch_sample in batch_samples:\n",
    "#                 steering_center = float(batch_sample[3])\n",
    "#                 # create adjusted steering measurements for the side camera images\n",
    "#                 correction = 0.6 # this is a parameter to tune\n",
    "#                 steering_left = steering_center + correction\n",
    "#                 steering_right = steering_center - correction\n",
    "\n",
    "#                 # read in images from center, left and right cameras\n",
    "#                 path = \"./data/IMG/\" # fill in the path to your training IMG directory\n",
    "#                 img_center = cv2.imread(path + batch_sample[0].split('/')[-1])\n",
    "#                 img_left = cv2.imread(path + batch_sample[1].split('/')[-1])\n",
    "#                 img_right = cv2.imread(path + batch_sample[2].split('/')[-1])\n",
    "\n",
    "#                 # add images and angles to data set\n",
    "#                 images.extend([img_center, img_left, img_right])\n",
    "#                 measurements.extend([steering_center, steering_left, steering_right])\n",
    "                \n",
    "                \n",
    "# #                 name = './IMG/'+batch_sample[0].split('/')[-1]\n",
    "# #                 center_image = cv2.imread(name)\n",
    "# #                 center_angle = float(batch_sample[3])\n",
    "# #                 images.append(center_image)\n",
    "# #                 angles.append(center_angle)\n",
    "\n",
    "#             augmented_images, augmented_measurements = [], []\n",
    "#             for image, measurement in zip(images, measurements):\n",
    "#                 augmented_images.append(image)\n",
    "#                 augmented_measurements.append(measurement)\n",
    "#                 augmented_images.append(cv2.flip(image, 1))\n",
    "#                 augmented_measurements.append(measurement * -1.0)\n",
    "#             # trim image to only see section with road\n",
    "#             X_train = np.array(augmented_images)\n",
    "#             y_train = np.array(augmented_measurements)\n",
    "#             yield sklearn.utils.shuffle(X_train, y_train)\n",
    "\n",
    "# # compile and train the model using the generator function\n",
    "# train_generator = generator(train_samples, batch_size=32)\n",
    "# validation_generator = generator(validation_samples, batch_size=32)\n",
    "\n",
    "# ch, row, col = 3, 160, 320  # Trimmed image format\n",
    "\n",
    "images = []\n",
    "measurements = []\n",
    "for line in lines[1:]:\n",
    "    steering_center = float(line[3])\n",
    "    # create adjusted steering measurements for the side camera images\n",
    "    correction = 0.6 # this is a parameter to tune\n",
    "    steering_left = steering_center + correction\n",
    "    steering_right = steering_center - correction\n",
    "\n",
    "    # read in images from center, left and right cameras\n",
    "    path = \"./data/IMG/\" # fill in the path to your training IMG directory\n",
    "    img_center = cv2.imread(path + line[0].split('/')[-1])\n",
    "    img_left = cv2.imread(path + line[1].split('/')[-1])\n",
    "    img_right = cv2.imread(path + line[2].split('/')[-1])\n",
    "\n",
    "    # add images and angles to data set\n",
    "    images.extend([img_center, img_left, img_right])\n",
    "    measurements.extend([steering_center, steering_left, steering_right])\n",
    "    source_path = line[0]\n",
    "    filename = source_path.split('/')[-1]\n",
    "    current_path = './data/IMG/'+filename\n",
    "    image = cv2.imread(current_path)\n",
    "    images.append(image)\n",
    "    measurement = float(line[3]) \n",
    "    measurements.append(measurement)\n"
   ]
  },
  {
   "cell_type": "code",
   "execution_count": 3,
   "metadata": {},
   "outputs": [
    {
     "name": "stdout",
     "output_type": "stream",
     "text": [
      "(13808, 160, 320, 3)\n"
     ]
    }
   ],
   "source": [
    "#Augment images to center them\n",
    "augmented_images, augmented_measurements = [], []\n",
    "for image, measurement in zip(images, measurements):\n",
    "    augmented_images.append(image)\n",
    "    augmented_measurements.append(measurement)\n",
    "    augmented_images.append(cv2.flip(image, 1))\n",
    "    augmented_measurements.append(measurement * -1.0)\n",
    "    \n",
    "X_train = np.array(augmented_images)\n",
    "y_train = np.array(augmented_measurements)\n",
    "print(X_train.shape)"
   ]
  },
  {
   "cell_type": "code",
   "execution_count": 5,
   "metadata": {},
   "outputs": [
    {
     "name": "stderr",
     "output_type": "stream",
     "text": [
      "/Users/Kornet-Mac-1/anaconda3/lib/python3.6/site-packages/ipykernel_launcher.py:9: UserWarning: Update your `Conv2D` call to the Keras 2 API: `Conv2D(24, (5, 5), activation=\"relu\", strides=(2, 2))`\n",
      "  if __name__ == '__main__':\n",
      "/Users/Kornet-Mac-1/anaconda3/lib/python3.6/site-packages/ipykernel_launcher.py:10: UserWarning: Update your `Conv2D` call to the Keras 2 API: `Conv2D(36, (5, 5), activation=\"relu\", strides=(2, 2))`\n",
      "  # Remove the CWD from sys.path while we load stuff.\n",
      "/Users/Kornet-Mac-1/anaconda3/lib/python3.6/site-packages/ipykernel_launcher.py:11: UserWarning: Update your `Conv2D` call to the Keras 2 API: `Conv2D(48, (5, 5), activation=\"relu\", strides=(2, 2))`\n",
      "  # This is added back by InteractiveShellApp.init_path()\n",
      "/Users/Kornet-Mac-1/anaconda3/lib/python3.6/site-packages/ipykernel_launcher.py:12: UserWarning: Update your `Conv2D` call to the Keras 2 API: `Conv2D(64, (3, 3), activation=\"relu\")`\n",
      "  if sys.path[0] == '':\n",
      "/Users/Kornet-Mac-1/anaconda3/lib/python3.6/site-packages/ipykernel_launcher.py:13: UserWarning: Update your `Conv2D` call to the Keras 2 API: `Conv2D(64, (3, 3), activation=\"relu\")`\n",
      "  del sys.path[0]\n"
     ]
    },
    {
     "name": "stdout",
     "output_type": "stream",
     "text": [
      "Train on 9665 samples, validate on 4143 samples\n",
      "Epoch 1/5\n",
      "9665/9665 [==============================] - 116s 12ms/step - loss: 0.1251 - val_loss: 0.1076\n",
      "Epoch 2/5\n",
      "9665/9665 [==============================] - 114s 12ms/step - loss: 0.0971 - val_loss: 0.1231\n",
      "Epoch 3/5\n",
      "9665/9665 [==============================] - 112s 12ms/step - loss: 0.0936 - val_loss: 0.1020\n",
      "Epoch 4/5\n",
      "9665/9665 [==============================] - 111s 12ms/step - loss: 0.0769 - val_loss: 0.1056\n",
      "Epoch 5/5\n",
      "9665/9665 [==============================] - 111s 11ms/step - loss: 0.0669 - val_loss: 0.1248\n"
     ]
    }
   ],
   "source": [
    "from keras.models import Sequential\n",
    "from keras.layers import Flatten, Dense, Lambda, Cropping2D,Dropout\n",
    "from keras.layers.convolutional import Convolution2D\n",
    "from keras.layers.pooling import MaxPooling2D\n",
    "\n",
    "# Nvidia's Autonomous Vehicle Team Training Network \n",
    "model = Sequential()\n",
    "# Normalization\n",
    "model.add(Lambda(lambda x: x/ 127.5 - 1., input_shape=(160,320,3)))\n",
    "# Crop the image to show only roads, remove noise from landscape\n",
    "model.add(Cropping2D(cropping=((70,25), (0,0))))\n",
    "# 5x5 Convolutional layer\n",
    "model.add(Convolution2D(24,5,5,subsample=(2,2),activation=\"relu\"))\n",
    "# 5x5 Convolutional layer\n",
    "model.add(Convolution2D(36,5,5,subsample=(2,2),activation=\"relu\"))\n",
    "# 5x5 Convolutional layer\n",
    "model.add(Convolution2D(48,5,5,subsample=(2,2),activation=\"relu\"))\n",
    "# 3x3 Convolutional layer\n",
    "model.add(Convolution2D(64,3,3,activation=\"relu\"))\n",
    "# 3x3 Convolutional layer\n",
    "model.add(Convolution2D(64,3,3,activation=\"relu\"))\n",
    "model.add(Flatten())\n",
    "# Dropout Layer\n",
    "model.add(Dropout(0.5))\n",
    "# Fully connected Layer\n",
    "model.add(Dense(100))\n",
    "# Fully connected Layer\n",
    "model.add(Dense(50))\n",
    "# Fully connected Layer\n",
    "model.add(Dense(10))\n",
    "# Output Layer\n",
    "model.add(Dense(1))\n",
    "\n",
    "model.compile(loss='mse', optimizer='adam')\n",
    "history_object = model.fit(X_train, y_train, validation_split=0.3, shuffle=True, epochs=3)\n",
    "#history_object = model.fit_generator(train_generator, samples_per_epoch= len(train_samples), validation_data=validation_generator, nb_val_samples=len(validation_samples), nb_epoch=2)\n",
    "model.save('model.h5')"
   ]
  },
  {
   "cell_type": "code",
   "execution_count": 6,
   "metadata": {},
   "outputs": [
    {
     "name": "stdout",
     "output_type": "stream",
     "text": [
      "dict_keys(['val_loss', 'loss'])\n"
     ]
    },
    {
     "data": {
      "image/png": "[encoded data removed]",
      "text/plain": [
       "<matplotlib.figure.Figure at 0x1925f652e8>"
      ]
     },
     "metadata": {},
     "output_type": "display_data"
    }
   ],
   "source": [
    "print(history_object.history.keys())\n",
    "import matplotlib.pyplot as plt\n",
    "%matplotlib inline\n",
    "\n",
    "### plot the training and validation loss for each epoch\n",
    "plt.plot(history_object.history['loss'])\n",
    "plt.plot(history_object.history['val_loss'])\n",
    "plt.title('model mean squared error loss')\n",
    "plt.ylabel('mean squared error loss')\n",
    "plt.xlabel('epoch')\n",
    "plt.legend(['training set', 'validation set'], loc='upper right')\n",
    "plt.show()"
   ]
  },
  {
   "cell_type": "code",
   "execution_count": null,
   "metadata": {},
   "outputs": [],
   "source": []
  },
  {
   "cell_type": "markdown",
   "metadata": {},
   "source": []
  }
 ],
 "metadata": {
  "kernelspec": {
   "display_name": "Python 3",
   "language": "python",
   "name": "python3"
  },
  "language_info": {
   "codemirror_mode": {
    "name": "ipython",
    "version": 3
   },
   "file_extension": ".py",
   "mimetype": "text/x-python",
   "name": "python",
   "nbconvert_exporter": "python",
   "pygments_lexer": "ipython3",
   "version": "3.6.4"
  }
 },
 "nbformat": 4,
 "nbformat_minor": 2
}
